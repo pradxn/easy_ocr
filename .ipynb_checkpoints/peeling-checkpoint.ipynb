{
 "cells": [
  {
   "cell_type": "code",
   "execution_count": 9,
   "id": "86988385",
   "metadata": {},
   "outputs": [],
   "source": [
    "import numpy as np\n",
    "import cv2\n",
    "import matplotlib.pyplot as plt"
   ]
  },
  {
   "cell_type": "code",
   "execution_count": null,
   "id": "498ef084",
   "metadata": {},
   "outputs": [],
   "source": []
  },
  {
   "cell_type": "code",
   "execution_count": 10,
   "id": "029abcef",
   "metadata": {},
   "outputs": [],
   "source": [
    "# Read image\n",
    "imagePath = \"/Users/pradxn/Desktop/files/potato_peeling/\"\n",
    "img = cv2.imread(imagePath+\"image5.jpeg\")"
   ]
  },
  {
   "cell_type": "code",
   "execution_count": 11,
   "id": "f8283ce4",
   "metadata": {},
   "outputs": [
    {
     "name": "stdout",
     "output_type": "stream",
     "text": [
      "green pixel percentage: 7.63\n"
     ]
    },
    {
     "data": {
      "image/png": "[encoded data removed]",
      "text/plain": [
       "<Figure size 432x288 with 1 Axes>"
      ]
     },
     "metadata": {
      "needs_background": "light"
     },
     "output_type": "display_data"
    }
   ],
   "source": [
    "lower = np.array([0,47,15])\n",
    "upper = np.array([18,255,255])\n",
    "\n",
    "scalePercent = 0.3\n",
    "\n",
    "mask = cv2.inRange(img,lower,upper)\n",
    "cv2.imshow('binary mask', mask)\n",
    "plt.imshow(mask)\n",
    "\n",
    "output = cv2.bitwise_and(img, img, mask=mask)\n",
    "cv2.imshow('mask', output)\n",
    "\n",
    "ratio = cv2.countNonZero(mask)/(img.size/3)\n",
    "\n",
    "colorP = (ratio*100)/scalePercent\n",
    "print('green pixel percentage:', np.round(colorP, 2))\n",
    "\n",
    "cv2.imshow(\"images\", np.hstack([img, output]))"
   ]
  },
  {
   "cell_type": "code",
   "execution_count": 12,
   "id": "53483bbb",
   "metadata": {},
   "outputs": [
    {
     "ename": "SyntaxError",
     "evalue": "EOL while scanning string literal (3506686498.py, line 81)",
     "output_type": "error",
     "traceback": [
      "\u001b[0;36m  Input \u001b[0;32mIn [12]\u001b[0;36m\u001b[0m\n\u001b[0;31m    cv2.waitKey(0)''''\u001b[0m\n\u001b[0m                      \n^\u001b[0m\n\u001b[0;31mSyntaxError\u001b[0m\u001b[0;31m:\u001b[0m EOL while scanning string literal\n"
     ]
    }
   ],
   "source": [
    "''''# Imports\n",
    "import cv2\n",
    "import numpy as np\n",
    "\n",
    "# Read image\n",
    "imagePath = \"/Users/pradxn/Desktop/files/potato_peeling/\"\n",
    "img = cv2.imread(imagePath+\"image5.jpeg\")\n",
    "\n",
    "# Here, you define your target color as\n",
    "# a tuple of three values: RGB\n",
    "green = [0,47,15]\n",
    "\n",
    "# You define an interval that covers the values\n",
    "# in the tuple and are below and above them by 20\n",
    "diff = 20\n",
    "\n",
    "# Be aware that opencv loads image in BGR format,\n",
    "# that's why the color values have been adjusted here:\n",
    "boundaries = [([green[2], green[1]-diff, green[0]-diff],\n",
    "           [green[2]+diff, green[1]+diff, green[0]+diff])]\n",
    "\n",
    "# Scale your BIG image into a small one:\n",
    "scalePercent = 0.3\n",
    "\n",
    "# Calculate the new dimensions\n",
    "width = int(img.shape[1] * scalePercent)\n",
    "height = int(img.shape[0] * scalePercent)\n",
    "newSize = (width, height)\n",
    "\n",
    "# Resize the image:\n",
    "img = cv2.resize(img, newSize, None, None, None, cv2.INTER_AREA)\n",
    "\n",
    "# check out the image resized:\n",
    "cv2.imshow(\"img resized\", img)\n",
    "cv2.waitKey(0)\n",
    "\n",
    "\n",
    "# for each range in your boundary list:\n",
    "for (lower, upper) in boundaries:\n",
    "\n",
    "    # You get the lower and upper part of the interval:\n",
    "    lower = np.array(lower, dtype=np.uint8)\n",
    "    upper = np.array(upper, dtype=np.uint8)\n",
    "\n",
    "    # cv2.inRange is used to binarize (i.e., render in white/black) an image\n",
    "    # All the pixels that fall inside your interval [lower, uipper] will be white\n",
    "    # All the pixels that do not fall inside this interval will\n",
    "    # be rendered in black, for all three channels:\n",
    "    mask = cv2.inRange(img, lower, upper)\n",
    "\n",
    "    # Check out the binary mask:\n",
    "    cv2.imshow(\"binary mask\", mask)\n",
    "    cv2.waitKey(0)\n",
    "\n",
    "    # Now, you AND the mask and the input image\n",
    "    # All the pixels that are white in the mask will\n",
    "    # survive the AND operation, all the black pixels\n",
    "    # will remain black\n",
    "    output = cv2.bitwise_and(img, img, mask=mask)\n",
    "\n",
    "    # Check out the ANDed mask:\n",
    "    cv2.imshow(\"ANDed mask\", output)\n",
    "    cv2.waitKey(0)\n",
    "\n",
    "    # You can use the mask to count the number of white pixels.\n",
    "    # Remember that the white pixels in the mask are those that\n",
    "    # fall in your defined range, that is, every white pixel corresponds\n",
    "    # to a green pixel. Divide by the image size and you got the\n",
    "    # percentage of green pixels in the original image:\n",
    "    ratio_green = cv2.countNonZero(mask)/(img.size/3)\n",
    "\n",
    "    # This is the color percent calculation, considering the resize I did earlier.\n",
    "    colorPercent = (ratio_green * 100) / scalePercent\n",
    "\n",
    "    # Print the color percent, use 2 figures past the decimal point\n",
    "    print('green pixel percentage:', np.round(colorPercent, 2))\n",
    "\n",
    "    # numpy's hstack is used to stack two images horizontally,\n",
    "    # so you see the various images generated in one figure:\n",
    "    cv2.imshow(\"images\", np.hstack([img, output]))\n",
    "    cv2.waitKey(0)''''"
   ]
  }
 ],
 "metadata": {
  "kernelspec": {
   "display_name": "Python 3 (ipykernel)",
   "language": "python",
   "name": "python3"
  },
  "language_info": {
   "codemirror_mode": {
    "name": "ipython",
    "version": 3
   },
   "file_extension": ".py",
   "mimetype": "text/x-python",
   "name": "python",
   "nbconvert_exporter": "python",
   "pygments_lexer": "ipython3",
   "version": "3.9.12"
  }
 },
 "nbformat": 4,
 "nbformat_minor": 5
}
