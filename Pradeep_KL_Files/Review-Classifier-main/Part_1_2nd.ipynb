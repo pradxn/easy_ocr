{
  "nbformat": 4,
  "nbformat_minor": 0,
  "metadata": {
    "colab": {
      "name": "Part_1_2nd.ipynb",
      "provenance": [],
      "collapsed_sections": []
    },
    "kernelspec": {
      "display_name": "Python 3",
      "name": "python3"
    }
  },
  "cells": [
    {
      "cell_type": "markdown",
      "metadata": {
        "id": "a8DqG-qhqy8d"
      },
      "source": [
        "**Part_1: 2nd**"
      ]
    },
    {
      "cell_type": "markdown",
      "metadata": {
        "id": "JwY3lWZ-q8OL"
      },
      "source": [
        "**Problem statement :** There are times when a user writes Good, Nice App or any other positive text, in the review and gives 1-star rating. Your goal is to identify the reviews where the semantics of review text does not match rating."
      ]
    },
    {
      "cell_type": "code",
      "metadata": {
        "colab": {
          "base_uri": "https://localhost:8080/"
        },
        "id": "kKu-VNH_qoyi",
        "outputId": "8d5c40df-8abc-4147-e505-4e4a7b6d033e"
      },
      "source": [
        "#importing the libraries\r\n",
        "import pandas as pd\r\n",
        "import numpy as np\r\n",
        "import nltk \r\n",
        "nltk.download('stopwords')"
      ],
      "execution_count": null,
      "outputs": [
        {
          "output_type": "stream",
          "text": [
            "[nltk_data] Downloading package stopwords to /root/nltk_data...\n",
            "[nltk_data]   Package stopwords is already up-to-date!\n"
          ],
          "name": "stdout"
        },
        {
          "output_type": "execute_result",
          "data": {
            "text/plain": [
              "True"
            ]
          },
          "metadata": {
            "tags": []
          },
          "execution_count": 255
        }
      ]
    },
    {
      "cell_type": "markdown",
      "metadata": {
        "id": "lY0GTGj6rlPf"
      },
      "source": [
        "**Mount google drive** to read data set from drive. "
      ]
    },
    {
      "cell_type": "code",
      "metadata": {
        "colab": {
          "base_uri": "https://localhost:8080/",
          "height": 332
        },
        "id": "2-QskPrwraBJ",
        "outputId": "34c963e0-cfa1-40be-a8f7-e2a6f9798f74"
      },
      "source": [
        "#read the dataset\r\n",
        "data=pd.read_csv(\"/content/drive/MyDrive/Assignment/chrome_reviews.csv\")\r\n",
        "data.head(3)"
      ],
      "execution_count": null,
      "outputs": [
        {
          "output_type": "execute_result",
          "data": {
            "text/html": [
              "<div>\n",
              "<style scoped>\n",
              "    .dataframe tbody tr th:only-of-type {\n",
              "        vertical-align: middle;\n",
              "    }\n",
              "\n",
              "    .dataframe tbody tr th {\n",
              "        vertical-align: top;\n",
              "    }\n",
              "\n",
              "    .dataframe thead th {\n",
              "        text-align: right;\n",
              "    }\n",
              "</style>\n",
              "<table border=\"1\" class=\"dataframe\">\n",
              "  <thead>\n",
              "    <tr style=\"text-align: right;\">\n",
              "      <th></th>\n",
              "      <th>ID</th>\n",
              "      <th>Review URL</th>\n",
              "      <th>Text</th>\n",
              "      <th>Star</th>\n",
              "      <th>Thumbs Up</th>\n",
              "      <th>User Name</th>\n",
              "      <th>Developer Reply</th>\n",
              "      <th>Version</th>\n",
              "      <th>Review Date</th>\n",
              "      <th>App ID</th>\n",
              "    </tr>\n",
              "  </thead>\n",
              "  <tbody>\n",
              "    <tr>\n",
              "      <th>0</th>\n",
              "      <td>3886</td>\n",
              "      <td>https://play.google.com/store/apps/details?id=...</td>\n",
              "      <td>This is very helpfull aap.</td>\n",
              "      <td>5</td>\n",
              "      <td>0</td>\n",
              "      <td>INDIAN Knowledge</td>\n",
              "      <td>NaN</td>\n",
              "      <td>83.0.4103.106</td>\n",
              "      <td>2020-12-19</td>\n",
              "      <td>com.android.chrome</td>\n",
              "    </tr>\n",
              "    <tr>\n",
              "      <th>1</th>\n",
              "      <td>3887</td>\n",
              "      <td>https://play.google.com/store/apps/details?id=...</td>\n",
              "      <td>Good</td>\n",
              "      <td>3</td>\n",
              "      <td>2</td>\n",
              "      <td>Ijeoma Happiness</td>\n",
              "      <td>NaN</td>\n",
              "      <td>85.0.4183.127</td>\n",
              "      <td>2020-12-19</td>\n",
              "      <td>com.android.chrome</td>\n",
              "    </tr>\n",
              "    <tr>\n",
              "      <th>2</th>\n",
              "      <td>3888</td>\n",
              "      <td>https://play.google.com/store/apps/details?id=...</td>\n",
              "      <td>Not able to update. Neither able to uninstall.</td>\n",
              "      <td>1</td>\n",
              "      <td>0</td>\n",
              "      <td>Priti D BtCFs-29</td>\n",
              "      <td>NaN</td>\n",
              "      <td>85.0.4183.127</td>\n",
              "      <td>2020-12-19</td>\n",
              "      <td>com.android.chrome</td>\n",
              "    </tr>\n",
              "  </tbody>\n",
              "</table>\n",
              "</div>"
            ],
            "text/plain": [
              "     ID  ...              App ID\n",
              "0  3886  ...  com.android.chrome\n",
              "1  3887  ...  com.android.chrome\n",
              "2  3888  ...  com.android.chrome\n",
              "\n",
              "[3 rows x 10 columns]"
            ]
          },
          "metadata": {
            "tags": []
          },
          "execution_count": 256
        }
      ]
    },
    {
      "cell_type": "markdown",
      "metadata": {
        "id": "uuoLJqQir-E6"
      },
      "source": [
        "**# As our goal is to identify the reviews where the semantics of review text does not match rating, using all the features does not make sence. So we are going to select the features which play major role, which are \"Text\"(content) and \"Star\"(rating)**"
      ]
    },
    {
      "cell_type": "code",
      "metadata": {
        "colab": {
          "base_uri": "https://localhost:8080/",
          "height": 142
        },
        "id": "b5NcdxdlrZ-8",
        "outputId": "8e4592f3-0aa5-41b5-9a13-4bb3f604dfe9"
      },
      "source": [
        "data_use=data[['ID','Text','Star']]\r\n",
        "data_use.head(3)"
      ],
      "execution_count": null,
      "outputs": [
        {
          "output_type": "execute_result",
          "data": {
            "text/html": [
              "<div>\n",
              "<style scoped>\n",
              "    .dataframe tbody tr th:only-of-type {\n",
              "        vertical-align: middle;\n",
              "    }\n",
              "\n",
              "    .dataframe tbody tr th {\n",
              "        vertical-align: top;\n",
              "    }\n",
              "\n",
              "    .dataframe thead th {\n",
              "        text-align: right;\n",
              "    }\n",
              "</style>\n",
              "<table border=\"1\" class=\"dataframe\">\n",
              "  <thead>\n",
              "    <tr style=\"text-align: right;\">\n",
              "      <th></th>\n",
              "      <th>ID</th>\n",
              "      <th>Text</th>\n",
              "      <th>Star</th>\n",
              "    </tr>\n",
              "  </thead>\n",
              "  <tbody>\n",
              "    <tr>\n",
              "      <th>0</th>\n",
              "      <td>3886</td>\n",
              "      <td>This is very helpfull aap.</td>\n",
              "      <td>5</td>\n",
              "    </tr>\n",
              "    <tr>\n",
              "      <th>1</th>\n",
              "      <td>3887</td>\n",
              "      <td>Good</td>\n",
              "      <td>3</td>\n",
              "    </tr>\n",
              "    <tr>\n",
              "      <th>2</th>\n",
              "      <td>3888</td>\n",
              "      <td>Not able to update. Neither able to uninstall.</td>\n",
              "      <td>1</td>\n",
              "    </tr>\n",
              "  </tbody>\n",
              "</table>\n",
              "</div>"
            ],
            "text/plain": [
              "     ID                                            Text  Star\n",
              "0  3886                      This is very helpfull aap.     5\n",
              "1  3887                                            Good     3\n",
              "2  3888  Not able to update. Neither able to uninstall.     1"
            ]
          },
          "metadata": {
            "tags": []
          },
          "execution_count": 257
        }
      ]
    },
    {
      "cell_type": "markdown",
      "metadata": {
        "id": "z44u0QDAsZDt"
      },
      "source": [
        "**Creating another feature called \"Result\" to classify reviews as positive and negetive based on rating. If rating is >= 2 then it is \"positive\" represented by 1 else \"negative\"  or not represented by 0.**"
      ]
    },
    {
      "cell_type": "code",
      "metadata": {
        "colab": {
          "base_uri": "https://localhost:8080/",
          "height": 326
        },
        "id": "6GwSM68orZ8n",
        "outputId": "92271ae2-a738-4cae-aafd-8a680ff9a3c7"
      },
      "source": [
        "data_use['Result'] = data_use['Star'].apply(lambda x: 1 if x >= 2 else 0)\r\n",
        "data_use.head()"
      ],
      "execution_count": null,
      "outputs": [
        {
          "output_type": "stream",
          "text": [
            "/usr/local/lib/python3.7/dist-packages/ipykernel_launcher.py:1: SettingWithCopyWarning: \n",
            "A value is trying to be set on a copy of a slice from a DataFrame.\n",
            "Try using .loc[row_indexer,col_indexer] = value instead\n",
            "\n",
            "See the caveats in the documentation: https://pandas.pydata.org/pandas-docs/stable/user_guide/indexing.html#returning-a-view-versus-a-copy\n",
            "  \"\"\"Entry point for launching an IPython kernel.\n"
          ],
          "name": "stderr"
        },
        {
          "output_type": "execute_result",
          "data": {
            "text/html": [
              "<div>\n",
              "<style scoped>\n",
              "    .dataframe tbody tr th:only-of-type {\n",
              "        vertical-align: middle;\n",
              "    }\n",
              "\n",
              "    .dataframe tbody tr th {\n",
              "        vertical-align: top;\n",
              "    }\n",
              "\n",
              "    .dataframe thead th {\n",
              "        text-align: right;\n",
              "    }\n",
              "</style>\n",
              "<table border=\"1\" class=\"dataframe\">\n",
              "  <thead>\n",
              "    <tr style=\"text-align: right;\">\n",
              "      <th></th>\n",
              "      <th>ID</th>\n",
              "      <th>Text</th>\n",
              "      <th>Star</th>\n",
              "      <th>Result</th>\n",
              "    </tr>\n",
              "  </thead>\n",
              "  <tbody>\n",
              "    <tr>\n",
              "      <th>0</th>\n",
              "      <td>3886</td>\n",
              "      <td>This is very helpfull aap.</td>\n",
              "      <td>5</td>\n",
              "      <td>1</td>\n",
              "    </tr>\n",
              "    <tr>\n",
              "      <th>1</th>\n",
              "      <td>3887</td>\n",
              "      <td>Good</td>\n",
              "      <td>3</td>\n",
              "      <td>1</td>\n",
              "    </tr>\n",
              "    <tr>\n",
              "      <th>2</th>\n",
              "      <td>3888</td>\n",
              "      <td>Not able to update. Neither able to uninstall.</td>\n",
              "      <td>1</td>\n",
              "      <td>0</td>\n",
              "    </tr>\n",
              "    <tr>\n",
              "      <th>3</th>\n",
              "      <td>3889</td>\n",
              "      <td>Nice app</td>\n",
              "      <td>4</td>\n",
              "      <td>1</td>\n",
              "    </tr>\n",
              "    <tr>\n",
              "      <th>4</th>\n",
              "      <td>3890</td>\n",
              "      <td>Many unwanted ads</td>\n",
              "      <td>1</td>\n",
              "      <td>0</td>\n",
              "    </tr>\n",
              "  </tbody>\n",
              "</table>\n",
              "</div>"
            ],
            "text/plain": [
              "     ID                                            Text  Star  Result\n",
              "0  3886                      This is very helpfull aap.     5       1\n",
              "1  3887                                            Good     3       1\n",
              "2  3888  Not able to update. Neither able to uninstall.     1       0\n",
              "3  3889                                        Nice app     4       1\n",
              "4  3890                               Many unwanted ads     1       0"
            ]
          },
          "metadata": {
            "tags": []
          },
          "execution_count": 258
        }
      ]
    },
    {
      "cell_type": "markdown",
      "metadata": {
        "id": "riY3GHDwsoTw"
      },
      "source": [
        "**Know we can use result as 'target' variable to our problem statement.**"
      ]
    },
    {
      "cell_type": "markdown",
      "metadata": {
        "id": "nBlzTPeVY6y9"
      },
      "source": [
        "**Data Cleaning and preprocessing**"
      ]
    },
    {
      "cell_type": "markdown",
      "metadata": {
        "id": "KpYsvDGSZMpv"
      },
      "source": [
        "Definig method to cleaning and preprocessing( removing stopwords, unnecessary white spaces, charectors other than alphabet and applying stemming)."
      ]
    },
    {
      "cell_type": "code",
      "metadata": {
        "id": "a_9RlcP3rZ53"
      },
      "source": [
        "# data cleaning and preprocessing\r\n",
        "import re\r\n",
        "from nltk.corpus import stopwords\r\n",
        "from nltk.stem.porter import PorterStemmer\r\n",
        "# creating object for PorterStemmer\r\n",
        "ps=PorterStemmer()\r\n",
        "\r\n",
        "# Writing method to clean data\r\n",
        "def data_clean_step1(data_set):\r\n",
        "  corpus=[]\r\n",
        "  for i in range(0,len(data_set)):\r\n",
        "    # Removing all the words other than alphabet\r\n",
        "    review=re.sub(\"[^a-zA-Z]\",\" \",str(data_set['Text'][i]))\r\n",
        "\r\n",
        "    # Converting into lowercase\r\n",
        "    review=review.lower()\r\n",
        "\r\n",
        "    #Splitting review as words\r\n",
        "    review=review.split()\r\n",
        "\r\n",
        "    # Stemming\r\n",
        "    review = [ps.stem(word) for word in review if not word in stopwords.words('english')]\r\n",
        "\r\n",
        "    # Joining words (making sentences with words stem)\r\n",
        "    review=' '.join(review)\r\n",
        "\r\n",
        "    # Making list of reviews\r\n",
        "    corpus.append(review)\r\n",
        "      \r\n",
        "  # replacing processed reviews \r\n",
        "  for i in range(len(corpus)):\r\n",
        "    data_set['Text'][i]=corpus[i]\r\n",
        "\r\n",
        "  return data_set"
      ],
      "execution_count": null,
      "outputs": []
    },
    {
      "cell_type": "markdown",
      "metadata": {
        "id": "5wuwV0wlZcW_"
      },
      "source": [
        "**Calling method to clean the data.**"
      ]
    },
    {
      "cell_type": "code",
      "metadata": {
        "colab": {
          "base_uri": "https://localhost:8080/",
          "height": 377
        },
        "id": "0pF7x9tnTj3V",
        "outputId": "1d35b097-09bc-4a06-bfdc-d8a3fe8115fa"
      },
      "source": [
        "data_use=data_clean_step1(data_use)\r\n",
        "data_use.head()"
      ],
      "execution_count": null,
      "outputs": [
        {
          "output_type": "stream",
          "text": [
            "/usr/local/lib/python3.7/dist-packages/ipykernel_launcher.py:32: SettingWithCopyWarning: \n",
            "A value is trying to be set on a copy of a slice from a DataFrame\n",
            "\n",
            "See the caveats in the documentation: https://pandas.pydata.org/pandas-docs/stable/user_guide/indexing.html#returning-a-view-versus-a-copy\n",
            "/usr/local/lib/python3.7/dist-packages/ipykernel_launcher.py:1: SettingWithCopyWarning: \n",
            "A value is trying to be set on a copy of a slice from a DataFrame\n",
            "\n",
            "See the caveats in the documentation: https://pandas.pydata.org/pandas-docs/stable/user_guide/indexing.html#returning-a-view-versus-a-copy\n",
            "  \"\"\"Entry point for launching an IPython kernel.\n"
          ],
          "name": "stderr"
        },
        {
          "output_type": "execute_result",
          "data": {
            "text/html": [
              "<div>\n",
              "<style scoped>\n",
              "    .dataframe tbody tr th:only-of-type {\n",
              "        vertical-align: middle;\n",
              "    }\n",
              "\n",
              "    .dataframe tbody tr th {\n",
              "        vertical-align: top;\n",
              "    }\n",
              "\n",
              "    .dataframe thead th {\n",
              "        text-align: right;\n",
              "    }\n",
              "</style>\n",
              "<table border=\"1\" class=\"dataframe\">\n",
              "  <thead>\n",
              "    <tr style=\"text-align: right;\">\n",
              "      <th></th>\n",
              "      <th>ID</th>\n",
              "      <th>Text</th>\n",
              "      <th>Star</th>\n",
              "      <th>Result</th>\n",
              "    </tr>\n",
              "  </thead>\n",
              "  <tbody>\n",
              "    <tr>\n",
              "      <th>0</th>\n",
              "      <td>3886</td>\n",
              "      <td>helpful aap</td>\n",
              "      <td>5</td>\n",
              "      <td>1</td>\n",
              "    </tr>\n",
              "    <tr>\n",
              "      <th>1</th>\n",
              "      <td>3887</td>\n",
              "      <td>good</td>\n",
              "      <td>3</td>\n",
              "      <td>1</td>\n",
              "    </tr>\n",
              "    <tr>\n",
              "      <th>2</th>\n",
              "      <td>3888</td>\n",
              "      <td>abl updat neither abl uninstal</td>\n",
              "      <td>1</td>\n",
              "      <td>0</td>\n",
              "    </tr>\n",
              "    <tr>\n",
              "      <th>3</th>\n",
              "      <td>3889</td>\n",
              "      <td>nice app</td>\n",
              "      <td>4</td>\n",
              "      <td>1</td>\n",
              "    </tr>\n",
              "    <tr>\n",
              "      <th>4</th>\n",
              "      <td>3890</td>\n",
              "      <td>mani unwant ad</td>\n",
              "      <td>1</td>\n",
              "      <td>0</td>\n",
              "    </tr>\n",
              "  </tbody>\n",
              "</table>\n",
              "</div>"
            ],
            "text/plain": [
              "     ID                            Text  Star  Result\n",
              "0  3886                     helpful aap     5       1\n",
              "1  3887                            good     3       1\n",
              "2  3888  abl updat neither abl uninstal     1       0\n",
              "3  3889                        nice app     4       1\n",
              "4  3890                  mani unwant ad     1       0"
            ]
          },
          "metadata": {
            "tags": []
          },
          "execution_count": 260
        }
      ]
    },
    {
      "cell_type": "markdown",
      "metadata": {
        "id": "nawtIo9uZhVR"
      },
      "source": [
        "Defining method to remove NAN values if any after cleaning and preprocessing of the data"
      ]
    },
    {
      "cell_type": "code",
      "metadata": {
        "id": "3T8ZNUjPUUqn"
      },
      "source": [
        "def data_clean_step2():\r\n",
        "  global data_use\r\n",
        "  # Removing empty string or ' ' in 'Text' after stemming if any.\r\n",
        "  nan_value = float(\"NaN\")\r\n",
        "  data_use.replace(\"\", nan_value, inplace=True)\r\n",
        "  data_use=data_use.dropna()\r\n",
        "\r\n",
        "  # Resetting the index\r\n",
        "  data_use.reset_index(inplace=True)\r\n",
        "  corpus=list(data_use['Text'])\r\n",
        "  \r\n"
      ],
      "execution_count": null,
      "outputs": []
    },
    {
      "cell_type": "markdown",
      "metadata": {
        "id": "vGg8uwk1ZxAk"
      },
      "source": [
        "**Calling method to remove NAN values from the data**"
      ]
    },
    {
      "cell_type": "code",
      "metadata": {
        "colab": {
          "base_uri": "https://localhost:8080/"
        },
        "id": "hJaqM8LYXTGw",
        "outputId": "276892b7-2bfc-4746-b93d-cfb822bde2c6"
      },
      "source": [
        "data_clean_step2()"
      ],
      "execution_count": null,
      "outputs": [
        {
          "output_type": "stream",
          "text": [
            "/usr/local/lib/python3.7/dist-packages/pandas/core/frame.py:4389: SettingWithCopyWarning: \n",
            "A value is trying to be set on a copy of a slice from a DataFrame\n",
            "\n",
            "See the caveats in the documentation: https://pandas.pydata.org/pandas-docs/stable/user_guide/indexing.html#returning-a-view-versus-a-copy\n",
            "  method=method,\n"
          ],
          "name": "stderr"
        }
      ]
    },
    {
      "cell_type": "markdown",
      "metadata": {
        "id": "jwWetg1JZ_CN"
      },
      "source": [
        "**Assigning values for Independent(X) and Dependent(Y) features."
      ]
    },
    {
      "cell_type": "code",
      "metadata": {
        "id": "xDgU6TdYWKFT"
      },
      "source": [
        "X=data_use['Text'].values\r\n",
        "y=data_use['Result'].values\r\n",
        "\r\n",
        "# Splitting the dataset into train set and test set\r\n",
        "from sklearn.model_selection import train_test_split\r\n",
        "X_train, X_test, y_train, y_test = train_test_split(X, y, test_size = 0.20, random_state = 0)"
      ],
      "execution_count": null,
      "outputs": []
    },
    {
      "cell_type": "markdown",
      "metadata": {
        "id": "eATB_67NPzDi"
      },
      "source": [
        "Here, we create **pipelines** with **Bag of words** created using **CountVectorizer**, **TfidfTransformer** and **estimator**. With creating pipelines we also perform **hyper parameter tuning** using **GridSearchCV**."
      ]
    },
    {
      "cell_type": "code",
      "metadata": {
        "id": "XDVgFjQuZqgA"
      },
      "source": [
        "# creating lists to store models, best_scores and best_parameters\r\n",
        "\r\n",
        "models,model_names,best_scores,best_params,test_score=[],[],[],[],[]"
      ],
      "execution_count": null,
      "outputs": []
    },
    {
      "cell_type": "markdown",
      "metadata": {
        "id": "pteSXbqeaPXW"
      },
      "source": [
        "Creating MultinomialNB model"
      ]
    },
    {
      "cell_type": "code",
      "metadata": {
        "colab": {
          "base_uri": "https://localhost:8080/"
        },
        "id": "ajIaWYe6PwPD",
        "outputId": "448090a0-4593-456d-df5c-71da4d0ecaa3"
      },
      "source": [
        "from sklearn.pipeline import Pipeline\r\n",
        "from sklearn.model_selection import GridSearchCV\r\n",
        "\r\n",
        "# Creating MultinomialNB model\r\n",
        "from sklearn.naive_bayes import MultinomialNB\r\n",
        "text_clf_NB = Pipeline([('vect', CountVectorizer()),('tfidf', TfidfTransformer()),('clfNB', MultinomialNB())])\r\n",
        "\r\n",
        "parameters_NB = {'vect__ngram_range': [(1, 1), (1, 2),(1,3)],'tfidf__use_idf': (True, False),'clfNB__alpha': [0.01,0.1,0.15,0.2,0.3,0.4,0.5,0.6,0.7,0.8,0.9]}\r\n",
        "\r\n",
        "MultinomialNB_classifier = GridSearchCV(text_clf_NB, parameters_NB, n_jobs=-1)\r\n",
        "MultinomialNB_classifier = MultinomialNB_classifier.fit(X_train,y_train)\r\n",
        "\r\n",
        "NB_model=MultinomialNB_classifier.best_estimator_\r\n",
        "y_pred=NB_model.predict(X_test)\r\n",
        "\r\n",
        "model_names.append('MultinomialNB')\r\n",
        "models.append(MultinomialNB_classifier)\r\n",
        "best_params.append(MultinomialNB_classifier.best_params_)\r\n",
        "best_scores.append(MultinomialNB_classifier.best_score_)\r\n",
        "test_score.append(accuracy_score(y_test,y_pred))\r\n",
        "\r\n",
        "print(\"Test Accuracy score : \",accuracy_score(y_test,y_pred))\r\n",
        "print(MultinomialNB_classifier.best_score_)\r\n",
        "print(MultinomialNB_classifier.best_params_)"
      ],
      "execution_count": null,
      "outputs": [
        {
          "output_type": "stream",
          "text": [
            "Test Accuracy score :  0.8339324227174695\n",
            "0.838339247739275\n",
            "{'clfNB__alpha': 0.1, 'tfidf__use_idf': False, 'vect__ngram_range': (1, 2)}\n"
          ],
          "name": "stdout"
        }
      ]
    },
    {
      "cell_type": "markdown",
      "metadata": {
        "id": "BBUucGldaVsv"
      },
      "source": [
        "Creating model for Logisticregression\r\n"
      ]
    },
    {
      "cell_type": "code",
      "metadata": {
        "colab": {
          "base_uri": "https://localhost:8080/"
        },
        "id": "y1t_k_K0PwME",
        "outputId": "4abb703a-a7eb-4c19-a9eb-113c9f8a06e9"
      },
      "source": [
        "# Creating model for Logisticregression\r\n",
        "text_clf_Log = Pipeline([('vect', CountVectorizer()),('tfidf', TfidfTransformer()),('clfLog', LogisticRegression())])\r\n",
        "parameters_Log = {'vect__ngram_range': [(1, 1), (1, 2),(1,3)],'tfidf__use_idf': (True, False),\r\n",
        "                  'clfLog__penalty':['l1','l2','elasticnet','none'],'clfLog__C':[1.0,1.5,2.0],\r\n",
        "                  'clfLog__solver':['newton-cg', 'lbfgs', 'liblinear', 'sag', 'saga'],\r\n",
        "                  'clfLog__multi_class':['ovr']}\r\n",
        "LogisticRegression_classifier = GridSearchCV(text_clf_Log, parameters_Log, n_jobs=-1)\r\n",
        "LogisticRegression_classifier = LogisticRegression_classifier.fit(X_train,y_train)\r\n",
        "\r\n",
        "Logistic_model=LogisticRegression_classifier.best_estimator_\r\n",
        "y_pred=Logistic_model.predict(X_test)\r\n",
        "\r\n",
        "model_names.append('LogisticRegression')\r\n",
        "models.append(LogisticRegression_classifier)\r\n",
        "best_params.append(LogisticRegression_classifier.best_params_)\r\n",
        "best_scores.append(LogisticRegression_classifier.best_score_)\r\n",
        "test_score.append(accuracy_score(y_test,y_pred))\r\n",
        "\r\n",
        "print(\"Test accuracy score : \",accuracy_score(y_test,y_pred)) \r\n",
        "print(LogisticRegression_classifier.best_score_)\r\n",
        "print(LogisticRegression_classifier.best_params_)"
      ],
      "execution_count": null,
      "outputs": [
        {
          "output_type": "stream",
          "text": [
            "Test accuracy score :  0.8396836808051761\n",
            "0.8401399096356338\n",
            "{'clfLog__C': 2.0, 'clfLog__multi_class': 'ovr', 'clfLog__penalty': 'l2', 'clfLog__solver': 'newton-cg', 'tfidf__use_idf': False, 'vect__ngram_range': (1, 3)}\n"
          ],
          "name": "stdout"
        }
      ]
    },
    {
      "cell_type": "markdown",
      "metadata": {
        "id": "8bRal6gXadTB"
      },
      "source": [
        "Creating model for PassiveAggressiveClassifier\r\n"
      ]
    },
    {
      "cell_type": "code",
      "metadata": {
        "colab": {
          "base_uri": "https://localhost:8080/"
        },
        "id": "zYfGOelJPwJy",
        "outputId": "65bc3771-f679-49ad-941f-609d90ae83d8"
      },
      "source": [
        "# Creating model for PassiveAggressiveClassifier\r\n",
        "from sklearn.linear_model import PassiveAggressiveClassifier\r\n",
        "text_clf_linear = Pipeline([('vect', CountVectorizer()),('tfidf', TfidfTransformer()),('clfLinear', PassiveAggressiveClassifier())])\r\n",
        "\r\n",
        "parameters_PAL = {'vect__ngram_range': [(1, 1), (1, 2),(1,3),(1,4)],'tfidf__use_idf': (True, False),'clfLinear__loss':['hinge','squared_hinge']}\r\n",
        "\r\n",
        "PassiveAggressive_classifier = GridSearchCV(text_clf_linear, parameters_PAL, n_jobs=-1)\r\n",
        "\r\n",
        "PassiveAggressive_classifier = PassiveAggressive_classifier.fit(X_train,y_train)\r\n",
        "\r\n",
        "PAC_model=PassiveAggressive_classifier.best_estimator_\r\n",
        "y_pred=PAC_model.predict(X_test)\r\n",
        "\r\n",
        "model_names.append('PassiveAggressiveClassifier')\r\n",
        "models.append(PassiveAggressive_classifier)\r\n",
        "best_params.append(PassiveAggressive_classifier.best_params_)\r\n",
        "best_scores.append(PassiveAggressive_classifier.best_score_)\r\n",
        "test_score.append(accuracy_score(y_test,y_pred))\r\n",
        "\r\n",
        "print(\"Test accuracy score : \",accuracy_score(y_test,y_pred)) \r\n",
        "print(PassiveAggressive_classifier.best_score_)\r\n",
        "print(PassiveAggressive_classifier.best_params_)"
      ],
      "execution_count": null,
      "outputs": [
        {
          "output_type": "stream",
          "text": [
            "Test accuracy score :  0.7929547088425594\n",
            "0.8192780546452326\n",
            "{'clfLinear__loss': 'hinge', 'tfidf__use_idf': True, 'vect__ngram_range': (1, 3)}\n"
          ],
          "name": "stdout"
        }
      ]
    },
    {
      "cell_type": "markdown",
      "metadata": {
        "id": "-w7LOsoyahUE"
      },
      "source": [
        "Creating model for SGDClassifier\r\n"
      ]
    },
    {
      "cell_type": "code",
      "metadata": {
        "colab": {
          "base_uri": "https://localhost:8080/"
        },
        "id": "ckrvQARaPwHX",
        "outputId": "e567737e-dbb8-4a0c-9fc4-12266d47d80d"
      },
      "source": [
        "# Creating model for SGDClassifier\r\n",
        "from sklearn.linear_model import SGDClassifier\r\n",
        "text_clf_SGD = Pipeline([('vect', CountVectorizer()),('tfidf', TfidfTransformer()),('clfSGD', SGDClassifier())])\r\n",
        "\r\n",
        "parameters_SGD = {'vect__ngram_range': [(1, 1), (1, 2),(1,3),(1,4)],'tfidf__use_idf': (True, False),'clfSGD__loss':['hinge', 'log', 'modified_huber', 'squared_hinge', 'perceptron'],\r\n",
        "                 'clfSGD__penalty':['l2', 'l1', 'elasticnet'],'clfSGD__alpha':[0.0001,0.001,0.01,0.1,0.2,0.3,0.4,0.5]}\r\n",
        "\r\n",
        "SGD_classifier = GridSearchCV(text_clf_SGD, parameters_SGD, n_jobs=-1)\r\n",
        "SGD_classifier = SGD_classifier.fit(X_train,y_train)\r\n",
        "\r\n",
        "SGD_model=SGD_classifier.best_estimator_\r\n",
        "y_pred=SGD_model.predict(X_test)\r\n",
        "\r\n",
        "model_names.append('SGDClassifier')\r\n",
        "models.append(SGD_classifier)\r\n",
        "best_params.append(SGD_classifier.best_params_)\r\n",
        "best_scores.append(SGD_classifier.best_score_)\r\n",
        "test_score.append(accuracy_score(y_test,y_pred))\r\n",
        "\r\n",
        "print(\"Test accuracy score : \",accuracy_score(y_test,y_pred))\r\n",
        "print(SGD_classifier.best_score_)\r\n",
        "print(SGD_classifier.best_params_)"
      ],
      "execution_count": null,
      "outputs": [
        {
          "output_type": "stream",
          "text": [
            "Test accuracy score :  0.8375269590222861\n",
            "0.8397803590012088\n",
            "{'clfSGD__alpha': 0.0001, 'clfSGD__loss': 'log', 'clfSGD__penalty': 'elasticnet', 'tfidf__use_idf': False, 'vect__ngram_range': (1, 3)}\n"
          ],
          "name": "stdout"
        }
      ]
    },
    {
      "cell_type": "markdown",
      "metadata": {
        "id": "qqXEGeRwamF8"
      },
      "source": [
        "Creating model for SGDClassifier\r\n"
      ]
    },
    {
      "cell_type": "code",
      "metadata": {
        "colab": {
          "base_uri": "https://localhost:8080/"
        },
        "id": "61rvENv_PwE9",
        "outputId": "29c01bff-bede-4fb0-e52b-d859b7973dd2"
      },
      "source": [
        "# Creating model for SGDClassifier\r\n",
        "from sklearn.svm import SVC\r\n",
        "text_clf_SVC = Pipeline([('vect', CountVectorizer()),('tfidf', TfidfTransformer()),('clfSVC', SVC())])\r\n",
        "\r\n",
        "parameters_svc = {'vect__ngram_range': [(1, 1), (1, 2),(1,3),(1,4)],'tfidf__use_idf': (True, False),'clfSVC__C':[0.01,0.1,1,2],\r\n",
        "                 'clfSVC__kernel':['linear', 'poly', 'rbf', 'sigmoid', 'precomputed'],'clfSVC__degree':[1,2,3,4],\r\n",
        "                 'clfSVC__gamma':['scale','auto']}\r\n",
        "\r\n",
        "SVC_classifier = GridSearchCV(text_clf_SVC, parameters_svc, n_jobs=-1)\r\n",
        "SVC_classifier = SVC_classifier.fit(X_train,y_train)\r\n",
        "\r\n",
        "SVC_model=SVC_classifier.best_estimator_\r\n",
        "y_pred=SVC_model.predict(X_test)\r\n",
        "\r\n",
        "model_names.append('SVC_Classifier')\r\n",
        "models.append(SVC_classifier)\r\n",
        "best_params.append(SVC_classifier.best_params_)\r\n",
        "best_scores.append(SVC_classifier.best_score_)\r\n",
        "test_score.append(accuracy_score(y_test,y_pred))\r\n",
        "\r\n",
        "print(\"Test accuracy score : \",accuracy_score(y_test,y_pred))\r\n",
        "print(SVC_classifier.best_score_)\r\n",
        "print(SVC_classifier.best_params_)\r\n"
      ],
      "execution_count": null,
      "outputs": [
        {
          "output_type": "stream",
          "text": [
            "Test accuracy score :  0.8353702372393961\n",
            "0.838161330773656\n",
            "{'clfSVC__C': 1, 'clfSVC__degree': 1, 'clfSVC__gamma': 'scale', 'clfSVC__kernel': 'poly', 'tfidf__use_idf': False, 'vect__ngram_range': (1, 2)}\n"
          ],
          "name": "stdout"
        }
      ]
    },
    {
      "cell_type": "markdown",
      "metadata": {
        "id": "2pVfMOQlaqjv"
      },
      "source": [
        "Creating model for RandomForestClassifier\r\n"
      ]
    },
    {
      "cell_type": "code",
      "metadata": {
        "colab": {
          "base_uri": "https://localhost:8080/"
        },
        "id": "Y3rO2cR4lu4w",
        "outputId": "98f58fc9-1cbc-4c54-8743-b3fed1886a8b"
      },
      "source": [
        "# Creating model for RandomForestClassifier\r\n",
        "from sklearn.ensemble import RandomForestClassifier\r\n",
        "\r\n",
        "text_clf_RFC = Pipeline([('vect', CountVectorizer()),('tfidf', TfidfTransformer()),('clfRFC', RandomForestClassifier())])\r\n",
        "\r\n",
        "parameters_RFC = {'vect__ngram_range': [(1, 1), (1, 2),(1,3),(1,4)],'tfidf__use_idf': (True, False),\r\n",
        "                 'clfRFC__n_estimators':[10,25,50,100],'clfRFC__criterion':['gini','entropy'],\r\n",
        "                 'clfRFC__max_depth':[2,4,5,10],'clfRFC__min_samples_leaf':[2,5,10,25,50],\r\n",
        "                  'clfRFC__max_features':['auto','sqrt','log2']\r\n",
        "                  }\r\n",
        "\r\n",
        "RandomForest_Classifier = GridSearchCV(text_clf_RFC, parameters_RFC, n_jobs=-1)\r\n",
        "RandomForest_Classifier = RandomForest_Classifier.fit(X_train,y_train)\r\n",
        "\r\n",
        "RFC_model=RandomForest_Classifier.best_estimator_\r\n",
        "y_pred=RFC_model.predict(X_test)\r\n",
        "\r\n",
        "model_names.append('Random_Forest_Classifier')\r\n",
        "models.append(RandomForest_Classifier)\r\n",
        "best_params.append(RandomForest_Classifier.best_params_)\r\n",
        "best_scores.append(RandomForest_Classifier.best_score_)\r\n",
        "test_score.append(accuracy_score(y_test,y_pred))\r\n",
        "\r\n",
        "print(\"Test accuracy score : \",accuracy_score(y_test,y_pred))\r\n",
        "print(RandomForest_Classifier.best_score_)\r\n",
        "print(RandomForest_Classifier.best_params_)"
      ],
      "execution_count": null,
      "outputs": [
        {
          "output_type": "stream",
          "text": [
            "Test accuracy score :  0.7361610352264558\n",
            "0.7543626015629545\n",
            "{'clfRFC__criterion': 'gini', 'clfRFC__max_depth': 10, 'clfRFC__max_features': 'sqrt', 'clfRFC__min_samples_leaf': 2, 'clfRFC__n_estimators': 10, 'tfidf__use_idf': False, 'vect__ngram_range': (1, 1)}\n"
          ],
          "name": "stdout"
        }
      ]
    },
    {
      "cell_type": "markdown",
      "metadata": {
        "id": "U4bt95bTawQ8"
      },
      "source": [
        "**Listing the informations of the models to choose the best among them.**"
      ]
    },
    {
      "cell_type": "code",
      "metadata": {
        "colab": {
          "base_uri": "https://localhost:8080/"
        },
        "id": "cJde2TVHPwBy",
        "outputId": "b96abf14-eb8f-4bcd-9362-738964ba0252"
      },
      "source": [
        "for i in range(len(test_score)):\r\n",
        "  print(model_names[i])\r\n",
        "  print(best_scores[i])\r\n",
        "  print(best_params[i])\r\n",
        "  print('Test accuracy :',test_score[i])\r\n",
        "  print('----------------------------------------------------------------------------------------')"
      ],
      "execution_count": null,
      "outputs": [
        {
          "output_type": "stream",
          "text": [
            "MultinomialNB\n",
            "0.838339247739275\n",
            "{'clfNB__alpha': 0.1, 'tfidf__use_idf': False, 'vect__ngram_range': (1, 2)}\n",
            "Test accuracy : 0.8339324227174695\n",
            "----------------------------------------------------------------------------------------\n",
            "LogisticRegression\n",
            "0.8401399096356338\n",
            "{'clfLog__C': 2.0, 'clfLog__multi_class': 'ovr', 'clfLog__penalty': 'l2', 'clfLog__solver': 'newton-cg', 'tfidf__use_idf': False, 'vect__ngram_range': (1, 3)}\n",
            "Test accuracy : 0.8396836808051761\n",
            "----------------------------------------------------------------------------------------\n",
            "PassiveAggressiveClassifier\n",
            "0.8192780546452326\n",
            "{'clfLinear__loss': 'hinge', 'tfidf__use_idf': True, 'vect__ngram_range': (1, 3)}\n",
            "Test accuracy : 0.7929547088425594\n",
            "----------------------------------------------------------------------------------------\n",
            "SGDClassifier\n",
            "0.8397803590012088\n",
            "{'clfSGD__alpha': 0.0001, 'clfSGD__loss': 'log', 'clfSGD__penalty': 'elasticnet', 'tfidf__use_idf': False, 'vect__ngram_range': (1, 3)}\n",
            "Test accuracy : 0.8375269590222861\n",
            "----------------------------------------------------------------------------------------\n",
            "SVC_Classifier\n",
            "0.838161330773656\n",
            "{'clfSVC__C': 1, 'clfSVC__degree': 1, 'clfSVC__gamma': 'scale', 'clfSVC__kernel': 'poly', 'tfidf__use_idf': False, 'vect__ngram_range': (1, 2)}\n",
            "Test accuracy : 0.8353702372393961\n",
            "----------------------------------------------------------------------------------------\n",
            "Random_Forest_Classifier\n",
            "0.7543626015629545\n",
            "{'clfRFC__criterion': 'gini', 'clfRFC__max_depth': 10, 'clfRFC__max_features': 'sqrt', 'clfRFC__min_samples_leaf': 2, 'clfRFC__n_estimators': 10, 'tfidf__use_idf': False, 'vect__ngram_range': (1, 1)}\n",
            "Test accuracy : 0.7361610352264558\n",
            "----------------------------------------------------------------------------------------\n"
          ],
          "name": "stdout"
        }
      ]
    },
    {
      "cell_type": "markdown",
      "metadata": {
        "id": "Gawdw5IVI_A1"
      },
      "source": [
        "From the above information we conclude that **Logistic regression model** performs good compare to other models.\r\n",
        "\r\n",
        "**We Save that model**"
      ]
    },
    {
      "cell_type": "code",
      "metadata": {
        "id": "Vkkb_1Sh07EB",
        "colab": {
          "base_uri": "https://localhost:8080/"
        },
        "outputId": "234fb169-149d-43f8-be79-d87519728bcb"
      },
      "source": [
        "from sklearn.externals import joblib\r\n",
        "for i in range(len(model_names)):\r\n",
        "  if model_names[i]=='LogisticRegression':\r\n",
        "    model=models[i]\r\n",
        "joblib.dump(model,'Review_model.mod')\r\n"
      ],
      "execution_count": null,
      "outputs": [
        {
          "output_type": "stream",
          "text": [
            "/usr/local/lib/python3.7/dist-packages/sklearn/externals/joblib/__init__.py:15: FutureWarning: sklearn.externals.joblib is deprecated in 0.21 and will be removed in 0.23. Please import this functionality directly from joblib, which can be installed with: pip install joblib. If this warning is raised when loading pickled models, you may need to re-serialize those models with scikit-learn 0.21+.\n",
            "  warnings.warn(msg, category=FutureWarning)\n"
          ],
          "name": "stderr"
        },
        {
          "output_type": "execute_result",
          "data": {
            "text/plain": [
              "['Review_model.mod']"
            ]
          },
          "metadata": {
            "tags": []
          },
          "execution_count": 274
        }
      ]
    },
    {
      "cell_type": "code",
      "metadata": {
        "id": "p21D1EGT07AF"
      },
      "source": [
        ""
      ],
      "execution_count": null,
      "outputs": []
    },
    {
      "cell_type": "code",
      "metadata": {
        "id": "TDrQLi5v065e"
      },
      "source": [
        ""
      ],
      "execution_count": null,
      "outputs": []
    },
    {
      "cell_type": "code",
      "metadata": {
        "id": "foNAbHQgMFJN"
      },
      "source": [
        ""
      ],
      "execution_count": null,
      "outputs": []
    }
  ]
}