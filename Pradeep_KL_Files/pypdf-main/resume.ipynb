{
 "cells": [
  {
   "cell_type": "code",
   "execution_count": 15,
   "id": "c87e5023",
   "metadata": {},
   "outputs": [
    {
     "name": "stdout",
     "output_type": "stream",
     "text": [
      "Requirement already satisfied: spacy==2.3.5 in /Users/pradeep/opt/anaconda3/lib/python3.8/site-packages (2.3.5)\n",
      "Requirement already satisfied: numpy>=1.15.0 in /Users/pradeep/opt/anaconda3/lib/python3.8/site-packages (from spacy==2.3.5) (1.20.1)\n",
      "Requirement already satisfied: plac<1.2.0,>=0.9.6 in /Users/pradeep/opt/anaconda3/lib/python3.8/site-packages (from spacy==2.3.5) (1.1.3)\n",
      "Requirement already satisfied: murmurhash<1.1.0,>=0.28.0 in /Users/pradeep/opt/anaconda3/lib/python3.8/site-packages (from spacy==2.3.5) (1.0.6)\n",
      "Requirement already satisfied: catalogue<1.1.0,>=0.0.7 in /Users/pradeep/opt/anaconda3/lib/python3.8/site-packages (from spacy==2.3.5) (1.0.0)\n",
      "Requirement already satisfied: setuptools in /Users/pradeep/opt/anaconda3/lib/python3.8/site-packages (from spacy==2.3.5) (52.0.0.post20210125)\n",
      "Requirement already satisfied: thinc<7.5.0,>=7.4.1 in /Users/pradeep/opt/anaconda3/lib/python3.8/site-packages (from spacy==2.3.5) (7.4.5)\n",
      "Requirement already satisfied: wasabi<1.1.0,>=0.4.0 in /Users/pradeep/opt/anaconda3/lib/python3.8/site-packages (from spacy==2.3.5) (0.9.0)\n",
      "Requirement already satisfied: requests<3.0.0,>=2.13.0 in /Users/pradeep/opt/anaconda3/lib/python3.8/site-packages (from spacy==2.3.5) (2.25.1)\n",
      "Requirement already satisfied: cymem<2.1.0,>=2.0.2 in /Users/pradeep/opt/anaconda3/lib/python3.8/site-packages (from spacy==2.3.5) (2.0.6)\n",
      "Requirement already satisfied: tqdm<5.0.0,>=4.38.0 in /Users/pradeep/opt/anaconda3/lib/python3.8/site-packages (from spacy==2.3.5) (4.59.0)\n",
      "Requirement already satisfied: blis<0.8.0,>=0.4.0 in /Users/pradeep/opt/anaconda3/lib/python3.8/site-packages (from spacy==2.3.5) (0.7.5)\n",
      "Requirement already satisfied: preshed<3.1.0,>=3.0.2 in /Users/pradeep/opt/anaconda3/lib/python3.8/site-packages (from spacy==2.3.5) (3.0.6)\n",
      "Requirement already satisfied: srsly<1.1.0,>=1.0.2 in /Users/pradeep/opt/anaconda3/lib/python3.8/site-packages (from spacy==2.3.5) (1.0.5)\n",
      "Requirement already satisfied: idna<3,>=2.5 in /Users/pradeep/opt/anaconda3/lib/python3.8/site-packages (from requests<3.0.0,>=2.13.0->spacy==2.3.5) (2.10)\n",
      "Requirement already satisfied: certifi>=2017.4.17 in /Users/pradeep/opt/anaconda3/lib/python3.8/site-packages (from requests<3.0.0,>=2.13.0->spacy==2.3.5) (2020.6.20)\n",
      "Requirement already satisfied: chardet<5,>=3.0.2 in /Users/pradeep/opt/anaconda3/lib/python3.8/site-packages (from requests<3.0.0,>=2.13.0->spacy==2.3.5) (4.0.0)\n",
      "Requirement already satisfied: urllib3<1.27,>=1.21.1 in /Users/pradeep/opt/anaconda3/lib/python3.8/site-packages (from requests<3.0.0,>=2.13.0->spacy==2.3.5) (1.26.4)\n",
      "Note: you may need to restart the kernel to use updated packages.\n"
     ]
    }
   ],
   "source": [
    "pip install spacy==2.3.5"
   ]
  },
  {
   "cell_type": "code",
   "execution_count": 16,
   "id": "04c163d6",
   "metadata": {},
   "outputs": [
    {
     "name": "stdout",
     "output_type": "stream",
     "text": [
      "Collecting https://github.com/explosion/spacy-models/releases/download/en_core_web_sm-2.3.1/en_core_web_sm-2.3.1.tar.gz\n",
      "  Using cached https://github.com/explosion/spacy-models/releases/download/en_core_web_sm-2.3.1/en_core_web_sm-2.3.1.tar.gz (12.0 MB)\n",
      "Requirement already satisfied: spacy<2.4.0,>=2.3.0 in /Users/pradeep/opt/anaconda3/lib/python3.8/site-packages (from en-core-web-sm==2.3.1) (2.3.5)\n",
      "Requirement already satisfied: wasabi<1.1.0,>=0.4.0 in /Users/pradeep/opt/anaconda3/lib/python3.8/site-packages (from spacy<2.4.0,>=2.3.0->en-core-web-sm==2.3.1) (0.9.0)\n",
      "Requirement already satisfied: murmurhash<1.1.0,>=0.28.0 in /Users/pradeep/opt/anaconda3/lib/python3.8/site-packages (from spacy<2.4.0,>=2.3.0->en-core-web-sm==2.3.1) (1.0.6)\n",
      "Requirement already satisfied: blis<0.8.0,>=0.4.0 in /Users/pradeep/opt/anaconda3/lib/python3.8/site-packages (from spacy<2.4.0,>=2.3.0->en-core-web-sm==2.3.1) (0.7.5)\n",
      "Requirement already satisfied: tqdm<5.0.0,>=4.38.0 in /Users/pradeep/opt/anaconda3/lib/python3.8/site-packages (from spacy<2.4.0,>=2.3.0->en-core-web-sm==2.3.1) (4.59.0)\n",
      "Requirement already satisfied: numpy>=1.15.0 in /Users/pradeep/opt/anaconda3/lib/python3.8/site-packages (from spacy<2.4.0,>=2.3.0->en-core-web-sm==2.3.1) (1.20.1)\n",
      "Requirement already satisfied: thinc<7.5.0,>=7.4.1 in /Users/pradeep/opt/anaconda3/lib/python3.8/site-packages (from spacy<2.4.0,>=2.3.0->en-core-web-sm==2.3.1) (7.4.5)\n",
      "Requirement already satisfied: srsly<1.1.0,>=1.0.2 in /Users/pradeep/opt/anaconda3/lib/python3.8/site-packages (from spacy<2.4.0,>=2.3.0->en-core-web-sm==2.3.1) (1.0.5)\n",
      "Requirement already satisfied: catalogue<1.1.0,>=0.0.7 in /Users/pradeep/opt/anaconda3/lib/python3.8/site-packages (from spacy<2.4.0,>=2.3.0->en-core-web-sm==2.3.1) (1.0.0)\n",
      "Requirement already satisfied: setuptools in /Users/pradeep/opt/anaconda3/lib/python3.8/site-packages (from spacy<2.4.0,>=2.3.0->en-core-web-sm==2.3.1) (52.0.0.post20210125)\n",
      "Requirement already satisfied: cymem<2.1.0,>=2.0.2 in /Users/pradeep/opt/anaconda3/lib/python3.8/site-packages (from spacy<2.4.0,>=2.3.0->en-core-web-sm==2.3.1) (2.0.6)\n",
      "Requirement already satisfied: plac<1.2.0,>=0.9.6 in /Users/pradeep/opt/anaconda3/lib/python3.8/site-packages (from spacy<2.4.0,>=2.3.0->en-core-web-sm==2.3.1) (1.1.3)\n",
      "Requirement already satisfied: preshed<3.1.0,>=3.0.2 in /Users/pradeep/opt/anaconda3/lib/python3.8/site-packages (from spacy<2.4.0,>=2.3.0->en-core-web-sm==2.3.1) (3.0.6)\n",
      "Requirement already satisfied: requests<3.0.0,>=2.13.0 in /Users/pradeep/opt/anaconda3/lib/python3.8/site-packages (from spacy<2.4.0,>=2.3.0->en-core-web-sm==2.3.1) (2.25.1)\n",
      "Requirement already satisfied: chardet<5,>=3.0.2 in /Users/pradeep/opt/anaconda3/lib/python3.8/site-packages (from requests<3.0.0,>=2.13.0->spacy<2.4.0,>=2.3.0->en-core-web-sm==2.3.1) (4.0.0)\n",
      "Requirement already satisfied: urllib3<1.27,>=1.21.1 in /Users/pradeep/opt/anaconda3/lib/python3.8/site-packages (from requests<3.0.0,>=2.13.0->spacy<2.4.0,>=2.3.0->en-core-web-sm==2.3.1) (1.26.4)\n",
      "Requirement already satisfied: certifi>=2017.4.17 in /Users/pradeep/opt/anaconda3/lib/python3.8/site-packages (from requests<3.0.0,>=2.13.0->spacy<2.4.0,>=2.3.0->en-core-web-sm==2.3.1) (2020.6.20)\n",
      "Requirement already satisfied: idna<3,>=2.5 in /Users/pradeep/opt/anaconda3/lib/python3.8/site-packages (from requests<3.0.0,>=2.13.0->spacy<2.4.0,>=2.3.0->en-core-web-sm==2.3.1) (2.10)\n",
      "Note: you may need to restart the kernel to use updated packages.\n"
     ]
    }
   ],
   "source": [
    "pip install https://github.com/explosion/spacy-models/releases/download/en_core_web_sm-2.3.1/en_core_web_sm-2.3.1.tar.gz"
   ]
  },
  {
   "cell_type": "code",
   "execution_count": 17,
   "id": "9e84bbad",
   "metadata": {},
   "outputs": [
    {
     "name": "stdout",
     "output_type": "stream",
     "text": [
      "Requirement already satisfied: pyresparser in /Users/pradeep/opt/anaconda3/lib/python3.8/site-packages (1.0.6)\n",
      "Requirement already satisfied: numpy>=1.16.4 in /Users/pradeep/opt/anaconda3/lib/python3.8/site-packages (from pyresparser) (1.20.1)\n",
      "Requirement already satisfied: pandas>=0.24.2 in /Users/pradeep/opt/anaconda3/lib/python3.8/site-packages (from pyresparser) (1.2.4)\n",
      "Requirement already satisfied: idna>=2.8 in /Users/pradeep/opt/anaconda3/lib/python3.8/site-packages (from pyresparser) (2.10)\n",
      "Requirement already satisfied: chardet>=3.0.4 in /Users/pradeep/opt/anaconda3/lib/python3.8/site-packages (from pyresparser) (4.0.0)\n",
      "Requirement already satisfied: spacy>=2.1.4 in /Users/pradeep/opt/anaconda3/lib/python3.8/site-packages (from pyresparser) (2.3.5)\n",
      "Requirement already satisfied: thinc>=7.0.4 in /Users/pradeep/opt/anaconda3/lib/python3.8/site-packages (from pyresparser) (7.4.5)\n",
      "Requirement already satisfied: requests>=2.22.0 in /Users/pradeep/opt/anaconda3/lib/python3.8/site-packages (from pyresparser) (2.25.1)\n",
      "Requirement already satisfied: docx2txt>=0.7 in /Users/pradeep/opt/anaconda3/lib/python3.8/site-packages (from pyresparser) (0.8)\n",
      "Requirement already satisfied: tqdm>=4.32.2 in /Users/pradeep/opt/anaconda3/lib/python3.8/site-packages (from pyresparser) (4.59.0)\n",
      "Requirement already satisfied: python-dateutil>=2.8.0 in /Users/pradeep/opt/anaconda3/lib/python3.8/site-packages (from pyresparser) (2.8.1)\n",
      "Requirement already satisfied: srsly>=0.0.7 in /Users/pradeep/opt/anaconda3/lib/python3.8/site-packages (from pyresparser) (1.0.5)\n",
      "Requirement already satisfied: pyrsistent>=0.15.2 in /Users/pradeep/opt/anaconda3/lib/python3.8/site-packages (from pyresparser) (0.17.3)\n",
      "Requirement already satisfied: certifi>=2019.6.16 in /Users/pradeep/opt/anaconda3/lib/python3.8/site-packages (from pyresparser) (2020.6.20)\n",
      "Requirement already satisfied: nltk>=3.4.3 in /Users/pradeep/opt/anaconda3/lib/python3.8/site-packages (from pyresparser) (3.5)\n",
      "Requirement already satisfied: sortedcontainers>=2.1.0 in /Users/pradeep/opt/anaconda3/lib/python3.8/site-packages (from pyresparser) (2.3.0)\n",
      "Requirement already satisfied: pytz>=2019.1 in /Users/pradeep/opt/anaconda3/lib/python3.8/site-packages (from pyresparser) (2021.1)\n",
      "Requirement already satisfied: urllib3>=1.25.3 in /Users/pradeep/opt/anaconda3/lib/python3.8/site-packages (from pyresparser) (1.26.4)\n",
      "Requirement already satisfied: preshed>=2.0.1 in /Users/pradeep/opt/anaconda3/lib/python3.8/site-packages (from pyresparser) (3.0.6)\n",
      "Requirement already satisfied: jsonschema>=3.0.1 in /Users/pradeep/opt/anaconda3/lib/python3.8/site-packages (from pyresparser) (3.2.0)\n",
      "Requirement already satisfied: pdfminer.six>=20181108 in /Users/pradeep/opt/anaconda3/lib/python3.8/site-packages (from pyresparser) (20211012)\n",
      "Requirement already satisfied: six>=1.12.0 in /Users/pradeep/opt/anaconda3/lib/python3.8/site-packages (from pyresparser) (1.15.0)\n",
      "Requirement already satisfied: pycryptodome>=3.8.2 in /Users/pradeep/opt/anaconda3/lib/python3.8/site-packages (from pyresparser) (3.14.1)\n",
      "Requirement already satisfied: cymem>=2.0.2 in /Users/pradeep/opt/anaconda3/lib/python3.8/site-packages (from pyresparser) (2.0.6)\n",
      "Requirement already satisfied: attrs>=19.1.0 in /Users/pradeep/opt/anaconda3/lib/python3.8/site-packages (from pyresparser) (20.3.0)\n",
      "Requirement already satisfied: blis>=0.2.4 in /Users/pradeep/opt/anaconda3/lib/python3.8/site-packages (from pyresparser) (0.7.5)\n",
      "Requirement already satisfied: wasabi>=0.2.2 in /Users/pradeep/opt/anaconda3/lib/python3.8/site-packages (from pyresparser) (0.9.0)\n",
      "Requirement already satisfied: setuptools in /Users/pradeep/opt/anaconda3/lib/python3.8/site-packages (from jsonschema>=3.0.1->pyresparser) (52.0.0.post20210125)\n",
      "Requirement already satisfied: joblib in /Users/pradeep/opt/anaconda3/lib/python3.8/site-packages (from nltk>=3.4.3->pyresparser) (1.0.1)\n",
      "Requirement already satisfied: regex in /Users/pradeep/opt/anaconda3/lib/python3.8/site-packages (from nltk>=3.4.3->pyresparser) (2021.4.4)\n",
      "Requirement already satisfied: click in /Users/pradeep/opt/anaconda3/lib/python3.8/site-packages (from nltk>=3.4.3->pyresparser) (7.1.2)\n",
      "Requirement already satisfied: cryptography in /Users/pradeep/opt/anaconda3/lib/python3.8/site-packages (from pdfminer.six>=20181108->pyresparser) (3.4.7)\n",
      "Requirement already satisfied: murmurhash<1.1.0,>=0.28.0 in /Users/pradeep/opt/anaconda3/lib/python3.8/site-packages (from preshed>=2.0.1->pyresparser) (1.0.6)\n",
      "Requirement already satisfied: catalogue<1.1.0,>=0.0.7 in /Users/pradeep/opt/anaconda3/lib/python3.8/site-packages (from spacy>=2.1.4->pyresparser) (1.0.0)\n",
      "Requirement already satisfied: plac<1.2.0,>=0.9.6 in /Users/pradeep/opt/anaconda3/lib/python3.8/site-packages (from spacy>=2.1.4->pyresparser) (1.1.3)\n",
      "Requirement already satisfied: cffi>=1.12 in /Users/pradeep/opt/anaconda3/lib/python3.8/site-packages (from cryptography->pdfminer.six>=20181108->pyresparser) (1.14.5)\n",
      "Requirement already satisfied: pycparser in /Users/pradeep/opt/anaconda3/lib/python3.8/site-packages (from cffi>=1.12->cryptography->pdfminer.six>=20181108->pyresparser) (2.20)\n",
      "Note: you may need to restart the kernel to use updated packages.\n"
     ]
    }
   ],
   "source": [
    "pip install pyresparser"
   ]
  },
  {
   "cell_type": "code",
   "execution_count": 18,
   "id": "a79addc9",
   "metadata": {},
   "outputs": [],
   "source": [
    "import warnings\n",
    "import en_core_web_sm\n",
    "import PyPDF2\n",
    "import os\n",
    "from pyresparser import ResumeParser\n",
    "\n",
    "warnings.filterwarnings('ignore')\n",
    "nlp=en_core_web_sm.load()"
   ]
  },
  {
   "cell_type": "code",
   "execution_count": 19,
   "id": "d9d1d50e",
   "metadata": {},
   "outputs": [
    {
     "name": "stdout",
     "output_type": "stream",
     "text": [
      "/Users/pradeep/Desktop/hri/pypdf/p.pdf\n"
     ]
    }
   ],
   "source": [
    "list = []\n",
    "\n",
    "directory = \"/Users/pradeep/Desktop/hri/pypdf/\"\n",
    "file = \"p.pdf\"\n",
    "\n",
    "print(directory+file)"
   ]
  },
  {
   "cell_type": "code",
   "execution_count": 20,
   "id": "eb9af039",
   "metadata": {},
   "outputs": [
    {
     "data": {
      "text/plain": [
       "{'name': 'PRADEEP VAJRALA',\n",
       " 'email': 'pradeepvajrala@gmail.com',\n",
       " 'mobile_number': '9181424785',\n",
       " 'skills': ['Statistics',\n",
       "  'Algorithms',\n",
       "  'Linux',\n",
       "  'Machine learning',\n",
       "  'Sales',\n",
       "  'Website',\n",
       "  'Opencv',\n",
       "  'Tableau',\n",
       "  'Matlab',\n",
       "  'Email',\n",
       "  'Design',\n",
       "  'Communication',\n",
       "  'Django',\n",
       "  'Html',\n",
       "  'Css',\n",
       "  'Health',\n",
       "  'Front-end',\n",
       "  'Data analysis',\n",
       "  'Mysql',\n",
       "  'R',\n",
       "  'C',\n",
       "  'System',\n",
       "  'Analysis',\n",
       "  'Analytical',\n",
       "  'Ai',\n",
       "  'Rest',\n",
       "  'Python',\n",
       "  'Json',\n",
       "  'Apis',\n",
       "  'Javascript',\n",
       "  'Database',\n",
       "  'Robot',\n",
       "  'Sql',\n",
       "  'Programming',\n",
       "  'C++',\n",
       "  'Api',\n",
       "  'Cryptography'],\n",
       " 'college_name': None,\n",
       " 'degree': ['B. TECH IN MECHATRONICS'],\n",
       " 'designation': None,\n",
       " 'experience': ['JANUARY 2022 – ON GOING                                                                                        BANGALORE, INDIA',\n",
       "  'AI/ML INTERN | KARMAA LABS',\n",
       "  '● Used OpenCV, Python, Django, and Django REST Framework to create a program for',\n",
       "  'detecting poses and was able to achieve with 53.2% minimum visibility and 99.9% maximum',\n",
       "  'visibility under ideal conditions.',\n",
       "  '● Developed dynamic websites using HTML, CSS, JavaScript, jQuery for front-end and Django,',\n",
       "  'MySQL, and MongoDB.',\n",
       "  '● Developed APIs using ReactJS for front-end and, for back-end Django REST Framework,',\n",
       "  'Postman, MySQL, and MongoDB.',\n",
       "  'APRIL 2021 – JUNE 2021                                                                                                  GURGAON, INDIA',\n",
       "  'GRAPHIC DESIGNING INTERN | MR. MOUSTACHE’S CAKES'],\n",
       " 'company_names': ['KARMAA LABS'],\n",
       " 'no_of_pages': 2,\n",
       " 'total_experience': 0.17}"
      ]
     },
     "execution_count": 20,
     "metadata": {},
     "output_type": "execute_result"
    }
   ],
   "source": [
    "data = ResumeParser(directory+file).get_extracted_data()\n",
    "\n",
    "data"
   ]
  },
  {
   "cell_type": "code",
   "execution_count": 21,
   "id": "eac18812",
   "metadata": {},
   "outputs": [
    {
     "data": {
      "text/plain": [
       "['Statistics',\n",
       " 'Algorithms',\n",
       " 'Linux',\n",
       " 'Machine learning',\n",
       " 'Sales',\n",
       " 'Website',\n",
       " 'Opencv',\n",
       " 'Tableau',\n",
       " 'Matlab',\n",
       " 'Email',\n",
       " 'Design',\n",
       " 'Communication',\n",
       " 'Django',\n",
       " 'Html',\n",
       " 'Css',\n",
       " 'Health',\n",
       " 'Front-end',\n",
       " 'Data analysis',\n",
       " 'Mysql',\n",
       " 'R',\n",
       " 'C',\n",
       " 'System',\n",
       " 'Analysis',\n",
       " 'Analytical',\n",
       " 'Ai',\n",
       " 'Rest',\n",
       " 'Python',\n",
       " 'Json',\n",
       " 'Apis',\n",
       " 'Javascript',\n",
       " 'Database',\n",
       " 'Robot',\n",
       " 'Sql',\n",
       " 'Programming',\n",
       " 'C++',\n",
       " 'Api',\n",
       " 'Cryptography']"
      ]
     },
     "execution_count": 21,
     "metadata": {},
     "output_type": "execute_result"
    }
   ],
   "source": [
    "listx = data['skills']\n",
    "\n",
    "listx"
   ]
  },
  {
   "cell_type": "code",
   "execution_count": 22,
   "id": "d14d9bca",
   "metadata": {},
   "outputs": [
    {
     "name": "stdout",
     "output_type": "stream",
     "text": [
      "Requirement already satisfied: json2html in /Users/pradeep/opt/anaconda3/lib/python3.8/site-packages (1.3.0)\n",
      "Note: you may need to restart the kernel to use updated packages.\n"
     ]
    }
   ],
   "source": [
    "pip install json2html"
   ]
  },
  {
   "cell_type": "code",
   "execution_count": 23,
   "id": "edced93e",
   "metadata": {},
   "outputs": [],
   "source": [
    "from json2html import *\n",
    "import json\n",
    "import tempfile\n",
    "\n",
    "class PdfConverter(object):\n",
    "\n",
    "    def __init__(self):\n",
    "        pass\n",
    "\n",
    "    def to_html(self, json_doc):\n",
    "        return json2html.convert(json=json_doc)\n",
    "\n",
    "    def to_pdf(self, html_str):\n",
    "        return pdfkit.from_string(html_str, None)\n",
    "    \n",
    "    \n",
    "def main():\n",
    "    stowflw = {listx}\n",
    "    pdfc = PdfConverter()\n",
    "    with open(\"sample.pdf\", \"wb\") as pdf_fl:\n",
    "        pdf_fl.write(pdfc.to_pdf(pdfc.to_html(json.dumps(stowflw))))"
   ]
  },
  {
   "cell_type": "code",
   "execution_count": 24,
   "id": "7b5ed23f",
   "metadata": {},
   "outputs": [
    {
     "name": "stdout",
     "output_type": "stream",
     "text": [
      "Requirement already satisfied: pdfrw in /Users/pradeep/opt/anaconda3/lib/python3.8/site-packages (0.4)\n",
      "Note: you may need to restart the kernel to use updated packages.\n"
     ]
    }
   ],
   "source": [
    "pip install pdfrw"
   ]
  },
  {
   "cell_type": "code",
   "execution_count": 25,
   "id": "defca08f",
   "metadata": {},
   "outputs": [],
   "source": [
    "from pdfrw import PdfWriter"
   ]
  },
  {
   "cell_type": "code",
   "execution_count": 26,
   "id": "c3835de5",
   "metadata": {},
   "outputs": [
    {
     "ename": "NameError",
     "evalue": "name 'PDFWriter' is not defined",
     "output_type": "error",
     "traceback": [
      "\u001b[0;31m---------------------------------------------------------------------------\u001b[0m",
      "\u001b[0;31mNameError\u001b[0m                                 Traceback (most recent call last)",
      "\u001b[0;32m<ipython-input-26-2669d02959be>\u001b[0m in \u001b[0;36m<module>\u001b[0;34m\u001b[0m\n\u001b[0;32m----> 1\u001b[0;31m \u001b[0;32mwith\u001b[0m \u001b[0mPDFWriter\u001b[0m\u001b[0;34m(\u001b[0m\u001b[0;34m\"test_pdfwriter.pdf\"\u001b[0m\u001b[0;34m)\u001b[0m \u001b[0;32mas\u001b[0m \u001b[0mpw\u001b[0m\u001b[0;34m:\u001b[0m\u001b[0;34m\u001b[0m\u001b[0;34m\u001b[0m\u001b[0m\n\u001b[0m\u001b[1;32m      2\u001b[0m \u001b[0;34m\u001b[0m\u001b[0m\n\u001b[1;32m      3\u001b[0m     \u001b[0mpw\u001b[0m\u001b[0;34m.\u001b[0m\u001b[0msetFont\u001b[0m\u001b[0;34m(\u001b[0m\u001b[0;34m\"Courier\"\u001b[0m\u001b[0;34m,\u001b[0m \u001b[0;36m12\u001b[0m\u001b[0;34m)\u001b[0m\u001b[0;34m\u001b[0m\u001b[0;34m\u001b[0m\u001b[0m\n\u001b[1;32m      4\u001b[0m     \u001b[0mpw\u001b[0m\u001b[0;34m.\u001b[0m\u001b[0msetHeader\u001b[0m\u001b[0;34m(\u001b[0m\u001b[0;34m\"Input: test_pdfwriter.py Output: test_pdfwriter.pdf\"\u001b[0m\u001b[0;34m)\u001b[0m\u001b[0;34m\u001b[0m\u001b[0;34m\u001b[0m\u001b[0m\n\u001b[1;32m      5\u001b[0m     \u001b[0mpw\u001b[0m\u001b[0;34m.\u001b[0m\u001b[0msetFooter\u001b[0m\u001b[0;34m(\u001b[0m\u001b[0;34m\"Generated by xtopdf: http://bit.ly/xtopdf\"\u001b[0m\u001b[0;34m)\u001b[0m\u001b[0;34m\u001b[0m\u001b[0;34m\u001b[0m\u001b[0m\n",
      "\u001b[0;31mNameError\u001b[0m: name 'PDFWriter' is not defined"
     ]
    }
   ],
   "source": [
    "with PDFWriter(\"test_pdfwriter.pdf\") as pw:\n",
    "\n",
    "    pw.setFont(\"Courier\", 12)\n",
    "    pw.setHeader(\"Input: test_pdfwriter.py Output: test_pdfwriter.pdf\")\n",
    "    pw.setFooter(\"Generated by xtopdf: http://bit.ly/xtopdf\")\n",
    "\n",
    "    with open(\"test_pdfwriter.py\") as in_fil:\n",
    "        for lin in in_fil:\n",
    "            pw.writeLine(lin)"
   ]
  },
  {
   "cell_type": "code",
   "execution_count": null,
   "id": "bd460a94",
   "metadata": {},
   "outputs": [],
   "source": []
  }
 ],
 "metadata": {
  "kernelspec": {
   "display_name": "Python 3",
   "language": "python",
   "name": "python3"
  },
  "language_info": {
   "codemirror_mode": {
    "name": "ipython",
    "version": 3
   },
   "file_extension": ".py",
   "mimetype": "text/x-python",
   "name": "python",
   "nbconvert_exporter": "python",
   "pygments_lexer": "ipython3",
   "version": "3.8.8"
  }
 },
 "nbformat": 4,
 "nbformat_minor": 5
}
