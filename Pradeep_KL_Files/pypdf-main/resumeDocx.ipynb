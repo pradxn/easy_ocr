{
 "cells": [
  {
   "cell_type": "code",
   "execution_count": 1,
   "id": "d4646ffb",
   "metadata": {},
   "outputs": [
    {
     "name": "stdout",
     "output_type": "stream",
     "text": [
      "pradeepvajrala@gmail.com\n"
     ]
    }
   ],
   "source": [
    "import docx2txt\n",
    "import re\n",
    "\n",
    "\n",
    "my_text = docx2txt.process(\"/Users/pradeep/Desktop/hri/pypdf/p.docx\")\n",
    "\n",
    "pattern = re.compile(r'[a-zA-Z0-9-\\.]+@[a-zA-Z-\\.]*\\.(com|edu|net)')\n",
    "\n",
    "matches = pattern.finditer(my_text)\n",
    "\n",
    "for match in matches:\n",
    "    print(match.group(0))"
   ]
  }
 ],
 "metadata": {
  "kernelspec": {
   "display_name": "Python 3",
   "language": "python",
   "name": "python3"
  },
  "language_info": {
   "codemirror_mode": {
    "name": "ipython",
    "version": 3
   },
   "file_extension": ".py",
   "mimetype": "text/x-python",
   "name": "python",
   "nbconvert_exporter": "python",
   "pygments_lexer": "ipython3",
   "version": "3.8.8"
  }
 },
 "nbformat": 4,
 "nbformat_minor": 5
}
