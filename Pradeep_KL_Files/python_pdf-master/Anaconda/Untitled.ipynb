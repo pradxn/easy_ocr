{
 "cells": [
  {
   "cell_type": "code",
   "execution_count": 1,
   "id": "1109e93a",
   "metadata": {},
   "outputs": [],
   "source": [
    "#importing required packages\n",
    "import time \n",
    "import cv2 #for image processing\n",
    "import mediapipe as mp #handles synchronization of time series data such as audio and video frames\n",
    "import numpy as np\n",
    "\n",
    "mpDrawing = mp.solutions.drawing_utils #draw detected pose over image\n",
    "mpPose = mp.solutions.pose #load all functions needed for poses detection\n",
    "\n",
    "pose = mpPose.Pose(min_detection_confidence=0.5,min_tracking_confidence=0.5)\n",
    "#min_detection_confidence is detection model that has detected successfully \n",
    "#min_tracking_confidence is tracking model for the posing to be considered tracked successfully\n",
    "cap = cv2.VideoCapture('yogaPose.mp4')\n",
    "\n",
    "while cap.isOpened():\n",
    "  success, frame = cap.read()\n",
    "  try:\n",
    "    # convert the frame to RGB format\n",
    "    RGB = cv2.cvtColor(frame, cv2.COLOR_BGR2RGB)\n",
    "    # processing RGB frame for results\n",
    "    results = pose.process(RGB)\n",
    "    print(results.pose_landmarks)\n",
    "    # draw detected pose on the frame\n",
    "    mpDrawing.draw_landmarks(frame, results.pose_landmarks, mpPose.POSE_CONNECTIONS)\n",
    "    # show the final output\n",
    "    cv2.imshow('Output', frame)\n",
    "  except:\n",
    "    break\n",
    "  if cv2.waitKey(1) == ord('q'):\n",
    "    break\n",
    "cap.release()\n",
    "cv2.destroyAllWindows()"
   ]
  },
  {
   "cell_type": "code",
   "execution_count": null,
   "id": "e0f31922",
   "metadata": {},
   "outputs": [],
   "source": []
  }
 ],
 "metadata": {
  "kernelspec": {
   "display_name": "Python 3",
   "language": "python",
   "name": "python3"
  },
  "language_info": {
   "codemirror_mode": {
    "name": "ipython",
    "version": 3
   },
   "file_extension": ".py",
   "mimetype": "text/x-python",
   "name": "python",
   "nbconvert_exporter": "python",
   "pygments_lexer": "ipython3",
   "version": "3.8.8"
  }
 },
 "nbformat": 4,
 "nbformat_minor": 5
}
