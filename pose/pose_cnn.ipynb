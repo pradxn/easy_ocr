{
 "cells": [
  {
   "cell_type": "code",
   "execution_count": 1,
   "id": "55111202",
   "metadata": {},
   "outputs": [
    {
     "name": "stdout",
     "output_type": "stream",
     "text": [
      "archive/types.jpeg\n",
      "archive/triangle4.jpeg\n",
      "archive/bhujangasana.jpeg\n",
      "archive/padmasan2.jpeg\n",
      "archive/treepose.jpg\n",
      "archive/padmasan-3.jpeg\n",
      "archive/padmasan-2.jpeg\n",
      "archive/padmasan3.jpeg\n",
      "archive/.DS_Store\n",
      "archive/ddp.jpeg\n",
      "archive/bhujangasana1.jpeg\n",
      "archive/yo.mp4\n",
      "archive/treepose1.jpg\n",
      "archive/yoga_3_pose.mp4\n",
      "archive/bakasana1.jpeg\n",
      "archive/padmasan.jpeg\n",
      "archive/unknown.jpg\n",
      "archive/triangle2.jpeg\n",
      "archive/bhujangasana6.jpeg\n",
      "archive/triangle3.jpeg\n",
      "archive/padmasan-4.jpeg\n",
      "archive/ddp1.jpeg\n",
      "archive/output.mp4\n",
      "archive/ddp2.jpeg\n",
      "archive/warriorIIpose.jpg\n",
      "archive/bakasana3.jpeg\n",
      "archive/f5.mp4\n",
      "archive/bhujangasana4.jpeg\n",
      "archive/bakasana.jpeg\n",
      "archive/triangle1.jpeg\n",
      "archive/tree.jpg\n",
      "archive/bhujangasana5.jpeg\n",
      "archive/unknown1.jpg\n",
      "archive/sample.jpg\n",
      "archive/sample3.jpg\n",
      "archive/bakasana2.jpeg\n",
      "archive/ddp3.jpeg\n",
      "archive/bhujangasana2.jpeg\n",
      "archive/Tpose1.jpg\n",
      "archive/ddp4.jpeg\n",
      "archive/padmasan-1.jpeg\n",
      "archive/triangle.jpeg\n",
      "archive/bakasana4.jpeg\n",
      "archive/ref.png\n",
      "archive/warriorIIpose1.jpg\n",
      "archive/padmasan1.jpeg\n",
      "archive/yog.mp4\n",
      "archive/bhujangasana3.jpeg\n",
      "archive/Tpose.jpg\n"
     ]
    }
   ],
   "source": [
    "import numpy as np\n",
    "import pandas as pd\n",
    "import os\n",
    "\n",
    "for dirname, _, filenames in os.walk('archive'):\n",
    "    for filename in filenames:\n",
    "        print(os.path.join(dirname, filename))"
   ]
  },
  {
   "cell_type": "code",
   "execution_count": null,
   "id": "3e83df31",
   "metadata": {},
   "outputs": [],
   "source": [
    "import tensorflow as tf\n",
    "import tensorflow_datasets as tfds\n",
    "print(\"TensorFlow version:\", tf.__version__)\n",
    "print(\"Num GPUs Available: \", len(tf.config.experimental.list_physical_devices('GPU')))\n",
    "print(\"Num CPUs Available: \", len(tf.config.experimental.list_physical_devices('CPU')))"
   ]
  },
  {
   "cell_type": "code",
   "execution_count": null,
   "id": "948bdb3e",
   "metadata": {},
   "outputs": [],
   "source": [
    "import numpy as np\n",
    "import tensorflow as tf\n",
    "from tensorflow import keras\n",
    "from tensorflow.keras.models import Sequential\n",
    "from tensorflow.keras.layers import Activation, Dense, Flatten, BatchNormalization, Conv2D, MaxPool2D\n",
    "from tensorflow.keras.optimizers import Adam\n",
    "from tensorflow.keras.metrics import categorical_crossentropy\n",
    "from tensorflow.keras.preprocessing.image import ImageDataGenerator\n",
    "from sklearn.metrics import confusion_matrix\n",
    "import itertools\n",
    "import os\n",
    "import shutil\n",
    "import random\n",
    "import glob\n",
    "import matplotlib.pyplot as plt\n",
    "import warnings\n",
    "warnings.simplefilter(action='ignore', category=FutureWarning)\n",
    "%matplotlib inline"
   ]
  },
  {
   "cell_type": "code",
   "execution_count": null,
   "id": "5bda6be9",
   "metadata": {},
   "outputs": [],
   "source": [
    "#py -m pip install mediapipe"
   ]
  },
  {
   "cell_type": "code",
   "execution_count": null,
   "id": "1dae96d1",
   "metadata": {},
   "outputs": [],
   "source": []
  }
 ],
 "metadata": {
  "kernelspec": {
   "display_name": "Python 3 (ipykernel)",
   "language": "python",
   "name": "python3"
  },
  "language_info": {
   "codemirror_mode": {
    "name": "ipython",
    "version": 3
   },
   "file_extension": ".py",
   "mimetype": "text/x-python",
   "name": "python",
   "nbconvert_exporter": "python",
   "pygments_lexer": "ipython3",
   "version": "3.9.12"
  }
 },
 "nbformat": 4,
 "nbformat_minor": 5
}
