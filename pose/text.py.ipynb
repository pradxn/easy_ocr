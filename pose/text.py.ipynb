{
 "cells": [
  {
   "cell_type": "code",
   "execution_count": 4,
   "id": "c3c853cd",
   "metadata": {},
   "outputs": [
    {
     "name": "stdout",
     "output_type": "stream",
     "text": [
      "\n",
      "\n",
      "Hindi: मीतिन्ग् जोइन् कर्ना\n",
      "Telugu: మీతిన్గ్ జోఇన్ కర్నా\n",
      "Kannada: ಮೀತಿನ್ಗ್ ಜೋಇನ್ ಕರ್ನಾ\n",
      "Tamil: மீதிந்க் ஜோஇந் கர்நா\n",
      "Malayalam: മീതിന്ഗ് ജോഇന് കര്നാ\n",
      "Bengali: মীতিন্গ্ জোইন্ কর্না\n"
     ]
    }
   ],
   "source": [
    "# import the module\n",
    "from indic_transliteration import sanscript\n",
    "from indic_transliteration.sanscript import transliterate\n",
    "\n",
    "# the text to be transliterated\n",
    "text = str(input('Enter text to be translated: '))\n",
    "print('\\n')\n",
    "# printing the transliterated text\n",
    "print('Hindi: ' + transliterate(text, sanscript.ITRANS, sanscript.DEVANAGARI))\n",
    "print('Telugu: ' + transliterate(text, sanscript.ITRANS, sanscript.TELUGU))\n",
    "print('Kannada: ' + transliterate(text, sanscript.ITRANS, sanscript.KANNADA))\n",
    "print('Tamil: ' + transliterate(text, sanscript.ITRANS, sanscript.TAMIL))\n",
    "print('Malayalam: ' + transliterate(text, sanscript.ITRANS, sanscript.MALAYALAM))\n",
    "print('Bengali: ' + transliterate(text, sanscript.ITRANS, sanscript.BENGALI))"
   ]
  },
  {
   "cell_type": "code",
   "execution_count": null,
   "id": "e5b15dcb",
   "metadata": {},
   "outputs": [],
   "source": []
  }
 ],
 "metadata": {
  "kernelspec": {
   "display_name": "Python 3 (ipykernel)",
   "language": "python",
   "name": "python3"
  },
  "language_info": {
   "codemirror_mode": {
    "name": "ipython",
    "version": 3
   },
   "file_extension": ".py",
   "mimetype": "text/x-python",
   "name": "python",
   "nbconvert_exporter": "python",
   "pygments_lexer": "ipython3",
   "version": "3.8.8"
  }
 },
 "nbformat": 4,
 "nbformat_minor": 5
}
